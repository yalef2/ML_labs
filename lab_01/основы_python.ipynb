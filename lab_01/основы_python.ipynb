{
  "cells": [
    {
      "cell_type": "markdown",
      "metadata": {
        "id": "M-DGa20PaHnu"
      },
      "source": [
        "#Задача 1\n",
        "Написать функцию на вход которой подается строка, состоящая из латинских букв.\n",
        "Функция должна вернуть количество гласных букв (a, e, i, o, u) в этой строке. Написать тесты для кода"
      ]
    },
    {
      "cell_type": "code",
      "execution_count": 2,
      "metadata": {
        "id": "XvX8X_JJ6PCb"
      },
      "outputs": [],
      "source": [
        "def check_letters(s: str) -> int:\n",
        "    letters = (\"a\", \"e\", \"i\", \"o\", \"u\", \"y\")\n",
        "    return sum(s.count(letter) for letter in letters)\n",
        "\n",
        "assert check_letters(\"aabb\") == 2\n",
        "assert check_letters(\"world\") == 1\n",
        "assert check_letters(\"\") == 0\n",
        "assert check_letters(\"vbh\") == 0\n",
        "assert check_letters(\"y\") == 1"
      ]
    },
    {
      "cell_type": "markdown",
      "metadata": {
        "id": "t2ClV_Y0bbr6"
      },
      "source": [
        "# Задача 2\n",
        "Написать функцию на вход, которой подается строка. Функция должна вернуть true, если\n",
        "каждый символ в строке встречается только 1 раз, иначе должна вернуть false. Написать тесты для кода"
      ]
    },
    {
      "cell_type": "code",
      "execution_count": 3,
      "metadata": {
        "id": "FppbECao6VIz"
      },
      "outputs": [],
      "source": [
        "# Your code goes here\n",
        "def check_unique(s: str) -> bool:\n",
        "    set_string = set(s)\n",
        "    return len(set_string) == len(s)\n",
        "\n",
        "\n",
        "assert check_unique(\"abcd\")\n",
        "assert not check_unique(\"aabb\")\n",
        "assert check_unique(\"\")"
      ]
    },
    {
      "cell_type": "markdown",
      "metadata": {
        "id": "udRiIK1cdt6E"
      },
      "source": [
        "# Задача 3\n",
        "Написать функцию, которая принимает положительное число и возвращает количество\n",
        "бит равных 1 в этом числе. Написать тесты для кода"
      ]
    },
    {
      "cell_type": "code",
      "execution_count": 4,
      "metadata": {
        "id": "6tkfDJRz6dp_"
      },
      "outputs": [],
      "source": [
        "# Your code goes here\n",
        "def get_bit_count(num: int) -> int:\n",
        "    binary = bin(num)[2:]\n",
        "    return binary.count(\"1\")\n",
        "\n",
        "\n",
        "assert get_bit_count(4) == 1\n",
        "assert get_bit_count(10) == 2\n",
        "assert get_bit_count(0) == 0"
      ]
    },
    {
      "cell_type": "markdown",
      "metadata": {
        "id": "26dDUz-Ae17N"
      },
      "source": [
        "# Задача 4\n",
        "Написать функцию, которая принимает положительное число. Функция должна вернуть то,\n",
        "сколько раз необходимо перемножать цифры числа или результат перемножения, чтобы\n",
        "получилось число состоящее из одной цифры.\n",
        "Например, для входного числа:\n",
        "· 39 функция должна вернуть 3, так как 3*9=27 => 2*7=14 => 1*4=4\n",
        "· 4 функция должна вернуть 0, так как число уже состоит из одной цифры\n",
        "· 999 функция должна вернуть 4, так как 9*9*9=729 => 7*2*9=126 => 1*2*6=12 =>\n",
        "1*2=2. Написать тесты для кода"
      ]
    },
    {
      "cell_type": "code",
      "execution_count": 6,
      "metadata": {
        "id": "BH1A_Mgi6i4G"
      },
      "outputs": [],
      "source": [
        "import functools\n",
        "\n",
        "\n",
        "def magic(n: int) -> int:\n",
        "    c = 0\n",
        "    while n // 10 > 0:\n",
        "        c += 1\n",
        "        numbers = []\n",
        "        while n > 0:\n",
        "            numbers.append(n % 10)\n",
        "            n = n // 10\n",
        "        n = functools.reduce(lambda a, b: a * b, numbers)\n",
        "    return c\n",
        "\n",
        "\n",
        "assert magic(999) == 4\n",
        "assert magic(39) == 3\n",
        "assert magic(1) == 0"
      ]
    },
    {
      "cell_type": "markdown",
      "metadata": {
        "id": "0nS-kIa8g8vd"
      },
      "source": [
        "# Задача 5\n",
        "Написать функцию, которая принимает два целочисленных вектора одинаковой длины и\n",
        "возвращает среднеквадратическое отклонение двух векторов. Написать тесты для кода"
      ]
    },
    {
      "cell_type": "code",
      "execution_count": 7,
      "metadata": {
        "id": "8iphx4LM6xbx"
      },
      "outputs": [],
      "source": [
        "import math\n",
        "\n",
        "\n",
        "def D(A: tuple[int]) -> float:\n",
        "    u = sum(A) / len(A)\n",
        "    squares = [(i - u) ** 2 for i in A]\n",
        "    return sum(squares) / len(A)\n",
        "\n",
        "\n",
        "def sd(A: tuple[int]) -> float:\n",
        "    return math.sqrt(D(A))\n",
        "\n",
        "\n",
        "def mse(A: tuple[int], B: tuple[int]) -> float:\n",
        "    sdA = sd(A)\n",
        "    sdB = sd(B)\n",
        "    return math.sqrt(sdA ** 2 + sdB ** 2)\n",
        "\n",
        "\n",
        "assert mse((1, 1, 1), (1, 1, 1)) == 0.0\n",
        "assert 1.16 > mse((1,2,3), (3, 2, 1)) > 1.15"
      ]
    },
    {
      "cell_type": "markdown",
      "metadata": {
        "id": "vpIPKL439zkw"
      },
      "source": [
        "# Задача 6\n",
        "Написать функцию, принимающая целое положительное число. Функция должна вернуть\n",
        "строку вида “(n1**p1)(n2**p2)…(nk**pk)” представляющая разложение числа на простые\n",
        "множители (если pi == 1, то выводить только ni).\n",
        "Например, для числа 86240 функция должна вернуть “(2**5)(5)(7**2)(11)”. Написать тесты для кода"
      ]
    },
    {
      "cell_type": "code",
      "execution_count": 8,
      "metadata": {
        "id": "pFebmcZk94Jw"
      },
      "outputs": [],
      "source": [
        "import collections\n",
        "\n",
        "\n",
        "def get_numbers(num: int) -> list[int]:\n",
        "    result = collections.defaultdict(int)\n",
        "    if num in (0, 1, 2, 3):\n",
        "        return f\"({num})\"\n",
        "    for i in range(2, num):\n",
        "        while num % i == 0:\n",
        "            result[i] += 1\n",
        "            num = num / i\n",
        "    strs = []\n",
        "    for num, count in result.items():\n",
        "        if count > 1:\n",
        "            s = f\"({num} * {count})\"\n",
        "        else:\n",
        "            s = f\"({num})\"\n",
        "        strs.append(s)\n",
        "    return \"\".join(strs)\n",
        "\n",
        "\n",
        "assert get_numbers(86240) == \"(2 * 5)(5)(7 * 2)(11)\"\n",
        "assert get_numbers(0) == \"(0)\"\n",
        "\n"
      ]
    },
    {
      "cell_type": "markdown",
      "metadata": {
        "id": "ps2s0BudX7A2"
      },
      "source": [
        "# Задача 7\n",
        "Написать функцию, принимающая целое число n, задающее количество кубиков. Функция\n",
        "должна определить, можно ли из данного кол-ва кубиков построить пирамиду, то есть\n",
        "можно ли представить число n как 1^2+2^2+3^2+…+k^2. Если можно, то функция должна\n",
        "вернуть k, иначе строку “It is impossible”. Написать тесты для кода"
      ]
    },
    {
      "cell_type": "code",
      "execution_count": 13,
      "metadata": {
        "id": "3YPjEXxhX_YT"
      },
      "outputs": [],
      "source": [
        "def pyramid(num: int):\n",
        "    for i in range(num):\n",
        "        num -= i ** 2\n",
        "        if num == 0:\n",
        "            return i\n",
        "        if num < 0:\n",
        "            return \"It is impossible\"\n",
        "\n",
        "assert pyramid(5) == 2\n",
        "assert pyramid(14) == 3\n",
        "assert pyramid(4) == \"It is impossible\""
      ]
    },
    {
      "cell_type": "markdown",
      "metadata": {
        "id": "KeKgmIdAQMEJ"
      },
      "source": [
        "# Задача 8\n",
        "Функция принимает на вход положительное число и определяет является ли оно сбалансированным, т.е. сумма цифр до средних равна сумме цифр после. Средними в случае нечетного числа цифр считать одну цифру, в случае четного - две средних. Написать тесты для кода"
      ]
    },
    {
      "cell_type": "code",
      "execution_count": 28,
      "metadata": {
        "id": "gMAAqtqlQrZt"
      },
      "outputs": [
        {
          "name": "stdout",
          "output_type": "stream",
          "text": [
            "(2, 3)\n",
            "(2, 3)\n",
            "(1, 3)\n",
            "(1, 3)\n",
            "(0, 2)\n"
          ]
        }
      ],
      "source": [
        "def is_balance_num(n: int) -> bool:\n",
        "    len_n = len(str(n))\n",
        "    if len_n % 2 == 0:\n",
        "        middle_indexes = (len_n // 2 - 1, len_n // 2 + 1)\n",
        "    else:\n",
        "        middle_indexes = (len_n // 2, len_n // 2 + 1)\n",
        "    left = map(int, str(n)[:middle_indexes[0]])\n",
        "    right = map(int, str(n)[middle_indexes[1]:])\n",
        "    return sum(left) == sum(right)\n",
        "\n",
        "\n",
        "assert is_balance_num(12312)\n",
        "assert not is_balance_num(32567)\n",
        "assert is_balance_num(2102)\n",
        "assert not is_balance_num(3567)\n",
        "assert is_balance_num(24)"
      ]
    }
  ],
  "metadata": {
    "colab": {
      "provenance": []
    },
    "kernelspec": {
      "display_name": "Python 3",
      "name": "python3"
    },
    "language_info": {
      "codemirror_mode": {
        "name": "ipython",
        "version": 3
      },
      "file_extension": ".py",
      "mimetype": "text/x-python",
      "name": "python",
      "nbconvert_exporter": "python",
      "pygments_lexer": "ipython3",
      "version": "3.12.0"
    }
  },
  "nbformat": 4,
  "nbformat_minor": 0
}
